{
  "nbformat": 4,
  "nbformat_minor": 0,
  "metadata": {
    "colab": {
      "provenance": [],
      "name": "object.ipynb",
      "authorship_tag": "ABX9TyNIyCnElLLMx9qVZAJvVFQx",
      "include_colab_link": true
    },
    "kernelspec": {
      "name": "python3",
      "display_name": "Python 3"
    },
    "language_info": {
      "name": "python"
    }
  },
  "cells": [
    {
      "cell_type": "markdown",
      "metadata": {
        "id": "view-in-github",
        "colab_type": "text"
      },
      "source": [
        "<a href=\"https://colab.research.google.com/github/azharvz3/pbo1/blob/main/object.ipynb\" target=\"_parent\"><img src=\"https://colab.research.google.com/assets/colab-badge.svg\" alt=\"Open In Colab\"/></a>"
      ]
    },
    {
      "cell_type": "code",
      "execution_count": null,
      "metadata": {
        "colab": {
          "base_uri": "https://localhost:8080/"
        },
        "id": "phI0xq03vE5K",
        "outputId": "4b9cd74e-27e5-4232-daf0-53409e086b52"
      },
      "outputs": [
        {
          "output_type": "stream",
          "name": "stdout",
          "text": [
            "Budi details:\n",
            "rambut: Ikal\n",
            "warna rambut: Hitam\n",
            "\n",
            "Michael details:\n",
            "Rambut: Lurus\n",
            "Warna Rambut: Pirang\n"
          ]
        }
      ],
      "source": [
        "# Class Variable\n",
        "class Person:\n",
        "    person = 'Person'\n",
        "\n",
        "    # The init method or constructor\n",
        "    def __init__(self, rambut, warna):\n",
        "        #Instance Variable\n",
        "        self.rambut = rambut\n",
        "        self.warna = warna\n",
        "\n",
        "# Objects\n",
        "Budi = Person('Ikal', 'Hitam')\n",
        "Michael = Person('Lurus', 'Pirang')\n",
        "\n",
        "print('Budi details:')\n",
        "print('rambut:', Budi.rambut)\n",
        "print('warna rambut:', Budi.warna)\n",
        "\n",
        "print('\\nMichael details:')\n",
        "print('Rambut:', Michael.rambut)\n",
        "print('Warna Rambut:', Michael.warna)"
      ]
    }
  ]
}