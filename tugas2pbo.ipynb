{
  "nbformat": 4,
  "nbformat_minor": 0,
  "metadata": {
    "colab": {
      "provenance": [],
      "authorship_tag": "ABX9TyMhCKiOSkShoB0YAZtoRm4q",
      "include_colab_link": true
    },
    "kernelspec": {
      "name": "python3",
      "display_name": "Python 3"
    },
    "language_info": {
      "name": "python"
    }
  },
  "cells": [
    {
      "cell_type": "markdown",
      "metadata": {
        "id": "view-in-github",
        "colab_type": "text"
      },
      "source": [
        "<a href=\"https://colab.research.google.com/github/azharvz3/pbo1/blob/main/tugas2pbo.ipynb\" target=\"_parent\"><img src=\"https://colab.research.google.com/assets/colab-badge.svg\" alt=\"Open In Colab\"/></a>"
      ]
    },
    {
      "cell_type": "markdown",
      "source": [
        "1. File: mahasiswa.py\n",
        "\n",
        "Kelas: Mahasiswa\n",
        "\n",
        "Objek: mhs\n",
        "\n",
        "Metode: cetak_krs()"
      ],
      "metadata": {
        "id": "9KDdAntDsqSn"
      }
    },
    {
      "cell_type": "code",
      "execution_count": 2,
      "metadata": {
        "colab": {
          "base_uri": "https://localhost:8080/"
        },
        "id": "OAd6vnG_sT1j",
        "outputId": "e1675361-7464-4fe4-e22e-dce6955b5e4d"
      },
      "outputs": [
        {
          "output_type": "stream",
          "name": "stdout",
          "text": [
            "ahmad azhar (230705135) dari jurusan Teknik Informatika sedang mencetak KRS.\n"
          ]
        }
      ],
      "source": [
        "class Mahasiswa:\n",
        "    def __init__(self, nama, nim, jurusan):\n",
        "        self.nama = nama\n",
        "        self.nim = nim\n",
        "        self.jurusan = jurusan\n",
        "\n",
        "    def cetak_krs(self):\n",
        "        print(f\"{self.nama} ({self.nim}) dari jurusan {self.jurusan} sedang mencetak KRS.\")\n",
        "\n",
        "# Membuat objek mahasiswa\n",
        "mhs = Mahasiswa(\"ahmad azhar\", \"230705135\", \"Teknik Informatika\")\n",
        "mhs.cetak_krs()\n"
      ]
    },
    {
      "cell_type": "markdown",
      "source": [
        "2. File: lingkaran.py\n",
        "\n",
        "Kelas: Lingkaran\n",
        "\n",
        "Objek: blt\n",
        "\n",
        "Metode: hitung_luas()"
      ],
      "metadata": {
        "id": "U-jTtm0DtAp0"
      }
    },
    {
      "cell_type": "code",
      "source": [
        "import math\n",
        "\n",
        "class Lingkaran:\n",
        "    def __init__(self, jari_jari):\n",
        "        self.jari_jari = jari_jari\n",
        "\n",
        "    def hitung_luas(self):\n",
        "        return math.pi * self.jari_jari ** 2\n",
        "\n",
        "# Membuat objek lingkaran\n",
        "blt = Lingkaran(7)\n",
        "print(f\"Luas lingkaran dengan jari-jari {blt.jari_jari} adalah {blt.hitung_luas():.2f}\")\n"
      ],
      "metadata": {
        "colab": {
          "base_uri": "https://localhost:8080/"
        },
        "id": "Q00KYh0usgTQ",
        "outputId": "cd75c206-52ae-4d48-d73c-f8d99ef7897a"
      },
      "execution_count": 3,
      "outputs": [
        {
          "output_type": "stream",
          "name": "stdout",
          "text": [
            "Luas lingkaran dengan jari-jari 7 adalah 153.94\n"
          ]
        }
      ]
    },
    {
      "cell_type": "markdown",
      "source": [
        "3. File: mobil.py\n",
        "\n",
        "Kelas: Mobil\n",
        "\n",
        "Objek: mbl\n",
        "\n",
        "Metode: jalankan()"
      ],
      "metadata": {
        "id": "ziEcMaaXtOW6"
      }
    },
    {
      "cell_type": "code",
      "source": [
        "class Mobil:\n",
        "    def __init__(self, merk, kecepatan):\n",
        "        self.merk = merk\n",
        "        self.kecepatan = kecepatan\n",
        "\n",
        "    def jalankan(self):\n",
        "        print(f\"Mobil {self.merk} berjalan dengan kecepatan {self.kecepatan} km/jam.\")\n",
        "\n",
        "# Membuat objek mobil\n",
        "mbl = Mobil(\"Toyota\", 80)\n",
        "mbl.jalankan()\n"
      ],
      "metadata": {
        "colab": {
          "base_uri": "https://localhost:8080/"
        },
        "id": "IlDIoVrrtSzX",
        "outputId": "b31cee57-bb8d-4b88-89c0-9dbbcba3d6c5"
      },
      "execution_count": 4,
      "outputs": [
        {
          "output_type": "stream",
          "name": "stdout",
          "text": [
            "Mobil Toyota berjalan dengan kecepatan 80 km/jam.\n"
          ]
        }
      ]
    },
    {
      "cell_type": "markdown",
      "source": [
        "4. File: pegawai.py\n",
        "\n",
        "Kelas: Pegawai\n",
        "\n",
        "Objek: pgw\n",
        "\n",
        "Metode: tampilkan_gaji()"
      ],
      "metadata": {
        "id": "aHrMwjfMtXGi"
      }
    },
    {
      "cell_type": "code",
      "source": [
        "class Pegawai:\n",
        "    def __init__(self, nama, gaji):\n",
        "        self.nama = nama\n",
        "        self.gaji = gaji\n",
        "\n",
        "    def tampilkan_gaji(self):\n",
        "        print(f\"Pegawai {self.nama} memiliki gaji sebesar Rp{self.gaji:,}.\")\n",
        "\n",
        "# Membuat objek pegawai\n",
        "pgw = Pegawai(\"Azhar\", 5000000)\n",
        "pgw.tampilkan_gaji()\n"
      ],
      "metadata": {
        "colab": {
          "base_uri": "https://localhost:8080/"
        },
        "id": "OwgIHNNSteCW",
        "outputId": "00f3ffc3-54b5-41bc-adc8-dcd93b0375cd"
      },
      "execution_count": 8,
      "outputs": [
        {
          "output_type": "stream",
          "name": "stdout",
          "text": [
            "Pegawai Azhar memiliki gaji sebesar Rp5,000,000.\n"
          ]
        }
      ]
    },
    {
      "cell_type": "markdown",
      "source": [
        "5. File: persegi.py\n",
        "\n",
        "Kelas: Persegi\n",
        "\n",
        "Objek: psg\n",
        "\n",
        "Metode: hitung_luas()"
      ],
      "metadata": {
        "id": "2ixDVJ8xuHdj"
      }
    },
    {
      "cell_type": "code",
      "source": [
        "class Persegi:\n",
        "    def __init__(self, sisi):\n",
        "        self.sisi = sisi\n",
        "\n",
        "    def hitung_luas(self):\n",
        "        return self.sisi ** 2\n",
        "\n",
        "# Membuat objek persegi\n",
        "psg = Persegi(5)\n",
        "print(f\"Luas persegi dengan sisi {psg.sisi} adalah {psg.hitung_luas()}.\")\n"
      ],
      "metadata": {
        "colab": {
          "base_uri": "https://localhost:8080/"
        },
        "id": "IIIqsFXJuKIS",
        "outputId": "137800ee-3fba-4517-82c6-15de35f867b5"
      },
      "execution_count": 7,
      "outputs": [
        {
          "output_type": "stream",
          "name": "stdout",
          "text": [
            "Luas persegi dengan sisi 5 adalah 25.\n"
          ]
        }
      ]
    }
  ]
}